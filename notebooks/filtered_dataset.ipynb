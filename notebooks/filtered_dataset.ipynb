{
 "cells": [
  {
   "cell_type": "markdown",
   "metadata": {},
   "source": [
    "# Setup"
   ]
  },
  {
   "cell_type": "code",
   "execution_count": 2,
   "metadata": {},
   "outputs": [],
   "source": [
    "import os\n",
    "os.chdir('..')"
   ]
  },
  {
   "cell_type": "code",
   "execution_count": 12,
   "metadata": {},
   "outputs": [],
   "source": [
    "import collections\n",
    "import pickle\n",
    "\n",
    "from matplotlib import pyplot as plt\n",
    "import numpy as np\n",
    "import pandas as pd\n",
    "import seaborn as sns"
   ]
  },
  {
   "cell_type": "markdown",
   "metadata": {},
   "source": [
    "# Analyzing the dataset"
   ]
  },
  {
   "cell_type": "code",
   "execution_count": 9,
   "metadata": {},
   "outputs": [],
   "source": [
    "with open('data/processed/filtered.pickle', 'rb') as infile:\n",
    "    dataset = pickle.load(infile)"
   ]
  },
  {
   "cell_type": "code",
   "execution_count": 10,
   "metadata": {},
   "outputs": [
    {
     "data": {
      "text/plain": [
       "107356"
      ]
     },
     "execution_count": 10,
     "metadata": {},
     "output_type": "execute_result"
    }
   ],
   "source": [
    "len(dataset)"
   ]
  },
  {
   "cell_type": "code",
   "execution_count": 61,
   "metadata": {},
   "outputs": [],
   "source": [
    "durations = [float(game['duration']) / 60 for game in dataset]"
   ]
  },
  {
   "cell_type": "code",
   "execution_count": 62,
   "metadata": {},
   "outputs": [
    {
     "data": {
      "text/plain": [
       "<matplotlib.axes._subplots.AxesSubplot at 0x25913fc50>"
      ]
     },
     "execution_count": 62,
     "metadata": {},
     "output_type": "execute_result"
    },
    {
     "data": {
      "image/png": "[encoded data removed]",
      "text/plain": [
       "<Figure size 432x288 with 1 Axes>"
      ]
     },
     "metadata": {
      "needs_background": "light"
     },
     "output_type": "display_data"
    }
   ],
   "source": [
    "sns.distplot(durations)"
   ]
  },
  {
   "cell_type": "markdown",
   "metadata": {},
   "source": [
    "# Heroes"
   ]
  },
  {
   "cell_type": "code",
   "execution_count": 11,
   "metadata": {},
   "outputs": [],
   "source": [
    "hero_ids = [\n",
    "    player['hero_id']\n",
    "    for match in dataset\n",
    "    for player in match['players']\n",
    "]"
   ]
  },
  {
   "cell_type": "code",
   "execution_count": 30,
   "metadata": {},
   "outputs": [],
   "source": [
    "hero_set = sorted(frozenset(hero_ids))"
   ]
  },
  {
   "cell_type": "code",
   "execution_count": 31,
   "metadata": {},
   "outputs": [
    {
     "data": {
      "text/plain": [
       "(1, 121)"
      ]
     },
     "execution_count": 31,
     "metadata": {},
     "output_type": "execute_result"
    }
   ],
   "source": [
    "min(hero_set), max(hero_set)"
   ]
  },
  {
   "cell_type": "code",
   "execution_count": 33,
   "metadata": {},
   "outputs": [
    {
     "data": {
      "text/plain": [
       "[24, 115, 116, 117, 118]"
      ]
     },
     "execution_count": 33,
     "metadata": {},
     "output_type": "execute_result"
    }
   ],
   "source": [
    "[i for i in range(1, 122) if i not in hero_set]"
   ]
  },
  {
   "cell_type": "code",
   "execution_count": 17,
   "metadata": {},
   "outputs": [],
   "source": [
    "with open('data/metadata/heroes.pickle', 'rb') as infile:\n",
    "    heroes_data = pickle.load(infile)\n",
    "\n",
    "heroes_map = {hero['id']: hero for hero in heroes_data['heroes']}"
   ]
  },
  {
   "cell_type": "code",
   "execution_count": 38,
   "metadata": {},
   "outputs": [
    {
     "data": {
      "text/plain": [
       "{'name': 'npc_dota_hero_grimstroke',\n",
       " 'id': 121,\n",
       " 'localized_name': 'Grimstroke',\n",
       " 'url_small_portrait': 'http://cdn.dota2.com/apps/dota2/images/heroes/grimstroke_sb.png',\n",
       " 'url_large_portrait': 'http://cdn.dota2.com/apps/dota2/images/heroes/grimstroke_lg.png',\n",
       " 'url_full_portrait': 'http://cdn.dota2.com/apps/dota2/images/heroes/grimstroke_full.png',\n",
       " 'url_vertical_portrait': 'http://cdn.dota2.com/apps/dota2/images/heroes/grimstroke_vert.jpg'}"
      ]
     },
     "execution_count": 38,
     "metadata": {},
     "output_type": "execute_result"
    }
   ],
   "source": [
    "heroes_map[121]"
   ]
  },
  {
   "cell_type": "code",
   "execution_count": 18,
   "metadata": {},
   "outputs": [],
   "source": [
    "hero_names = [heroes_map[hero_id]['localized_name'] for hero_id in hero_ids]"
   ]
  },
  {
   "cell_type": "code",
   "execution_count": 43,
   "metadata": {},
   "outputs": [],
   "source": [
    "hero_counter = collections.Counter(hero_names).most_common()"
   ]
  },
  {
   "cell_type": "code",
   "execution_count": 44,
   "metadata": {},
   "outputs": [
    {
     "data": {
      "text/plain": [
       "116"
      ]
     },
     "execution_count": 44,
     "metadata": {},
     "output_type": "execute_result"
    }
   ],
   "source": [
    "len(hero_counter)"
   ]
  },
  {
   "cell_type": "code",
   "execution_count": 45,
   "metadata": {},
   "outputs": [
    {
     "data": {
      "text/plain": [
       "116"
      ]
     },
     "execution_count": 45,
     "metadata": {},
     "output_type": "execute_result"
    }
   ],
   "source": [
    "len(heroes_map)"
   ]
  },
  {
   "cell_type": "code",
   "execution_count": 46,
   "metadata": {},
   "outputs": [
    {
     "data": {
      "text/plain": [
       "[('Pudge', 54183),\n",
       " ('Lion', 43781),\n",
       " ('Phantom Assassin', 39548),\n",
       " ('Juggernaut', 32657),\n",
       " ('Invoker', 31518),\n",
       " ('Rubick', 31086),\n",
       " ('Slark', 27473),\n",
       " ('Sniper', 24076),\n",
       " ('Axe', 22180),\n",
       " ('Anti-Mage', 21590),\n",
       " ('Drow Ranger', 19988),\n",
       " ('Faceless Void', 19723),\n",
       " ('Earthshaker', 18188),\n",
       " ('Dazzle', 17684),\n",
       " ('Ogre Magi', 16910),\n",
       " ('Windranger', 15592),\n",
       " ('Legion Commander', 15407),\n",
       " ('Shadow Shaman', 15385),\n",
       " ('Bristleback', 15368),\n",
       " ('Mirana', 14852),\n",
       " ('Kunkka', 14613),\n",
       " ('Tinker', 14579),\n",
       " ('Zeus', 13390),\n",
       " ('Skywrath Mage', 13244),\n",
       " ('Spirit Breaker', 12875),\n",
       " ('Crystal Maiden', 12869),\n",
       " ('Grimstroke', 12867),\n",
       " ('Monkey King', 12866),\n",
       " ('Riki', 12263),\n",
       " ('Shadow Fiend', 12225),\n",
       " ('Huskar', 11933),\n",
       " ('Bounty Hunter', 11813),\n",
       " ('Slardar', 10883),\n",
       " ('Lich', 10517),\n",
       " ('Magnus', 9603),\n",
       " ('Morphling', 9587),\n",
       " ('Necrophos', 9365),\n",
       " ('Silencer', 9342),\n",
       " ('Troll Warlord', 9035),\n",
       " ('Tusk', 8656),\n",
       " ('Bloodseeker', 8469),\n",
       " ('Medusa', 8439),\n",
       " ('Wraith King', 8326),\n",
       " ('Storm Spirit', 8259),\n",
       " ('Lina', 8195),\n",
       " ('Witch Doctor', 7578),\n",
       " ('Tidehunter', 7567),\n",
       " ('Luna', 7559),\n",
       " ('Viper', 7544),\n",
       " ('Techies', 7435),\n",
       " ('Phoenix', 7329),\n",
       " ('Sven', 7200),\n",
       " ('Terrorblade', 7145),\n",
       " ('Ursa', 7070),\n",
       " ('Centaur Warrunner', 6859),\n",
       " ('Ancient Apparition', 6778),\n",
       " ('Sand King', 6591),\n",
       " ('Phantom Lancer', 6588),\n",
       " ('Spectre', 6491),\n",
       " (\"Nature's Prophet\", 6457),\n",
       " ('Chaos Knight', 6456),\n",
       " ('Weaver', 6415),\n",
       " ('Undying', 6251),\n",
       " ('Keeper of the Light', 6184),\n",
       " ('Vengeful Spirit', 6170),\n",
       " ('Meepo', 5991),\n",
       " ('Jakiro', 5937),\n",
       " ('Timbersaw', 5839),\n",
       " ('Dragon Knight', 5803),\n",
       " ('Ember Spirit', 5762),\n",
       " ('Queen of Pain', 5750),\n",
       " ('Pugna', 5736),\n",
       " ('Tiny', 5458),\n",
       " ('Venomancer', 4928),\n",
       " ('Clinkz', 4925),\n",
       " ('Outworld Devourer', 4323),\n",
       " ('Pangolier', 4304),\n",
       " ('Doom', 4299),\n",
       " ('Disruptor', 4299),\n",
       " ('Alchemist', 4256),\n",
       " ('Lifestealer', 3927),\n",
       " ('Enigma', 3747),\n",
       " ('Underlord', 3698),\n",
       " ('Nyx Assassin', 3695),\n",
       " ('Winter Wyvern', 3577),\n",
       " ('Dark Willow', 3489),\n",
       " ('Beastmaster', 3421),\n",
       " ('Clockwerk', 3200),\n",
       " ('Templar Assassin', 3189),\n",
       " ('Treant Protector', 3116),\n",
       " ('Brewmaster', 2955),\n",
       " ('Puck', 2904),\n",
       " ('Abaddon', 2857),\n",
       " ('Razor', 2786),\n",
       " ('Warlock', 2764),\n",
       " ('Earth Spirit', 2657),\n",
       " ('Oracle', 2553),\n",
       " ('Enchantress', 2449),\n",
       " ('Night Stalker', 2339),\n",
       " ('Naga Siren', 2331),\n",
       " ('Gyrocopter', 2281),\n",
       " ('Omniknight', 2164),\n",
       " ('Bane', 2104),\n",
       " ('Shadow Demon', 2033),\n",
       " ('Arc Warden', 1955),\n",
       " ('Dark Seer', 1921),\n",
       " ('Elder Titan', 1752),\n",
       " ('Visage', 1538),\n",
       " ('Lone Druid', 1537),\n",
       " ('Broodmother', 1508),\n",
       " ('Death Prophet', 1504),\n",
       " ('Io', 1255),\n",
       " ('Leshrac', 1059),\n",
       " ('Lycan', 980),\n",
       " ('Batrider', 933),\n",
       " ('Chen', 703)]"
      ]
     },
     "execution_count": 46,
     "metadata": {},
     "output_type": "execute_result"
    }
   ],
   "source": [
    "hero_counter"
   ]
  },
  {
   "cell_type": "markdown",
   "metadata": {},
   "source": [
    "# Items"
   ]
  },
  {
   "cell_type": "code",
   "execution_count": 47,
   "metadata": {},
   "outputs": [],
   "source": [
    "with open('data/metadata/items.pickle', 'rb') as infile:\n",
    "    item_data = pickle.load(infile)\n",
    "\n",
    "items_map = {item['id']: item for item in item_data['items']}"
   ]
  },
  {
   "cell_type": "code",
   "execution_count": 53,
   "metadata": {},
   "outputs": [],
   "source": [
    "item_ids = [\n",
    "    player[f'item_{n}']\n",
    "    for match in dataset\n",
    "    for player in match['players']\n",
    "    for n in range(0, 6)\n",
    "    if player[f'item_{n}'] != 0\n",
    "]"
   ]
  },
  {
   "cell_type": "code",
   "execution_count": 54,
   "metadata": {},
   "outputs": [],
   "source": [
    "item_names = [items_map[i]['localized_name'] for i in item_ids]"
   ]
  },
  {
   "cell_type": "code",
   "execution_count": 60,
   "metadata": {},
   "outputs": [
    {
     "data": {
      "text/plain": [
       "0"
      ]
     },
     "execution_count": 60,
     "metadata": {},
     "output_type": "execute_result"
    }
   ],
   "source": [
    "collections.Counter(item_ids)[46]"
   ]
  },
  {
   "cell_type": "code",
   "execution_count": 55,
   "metadata": {},
   "outputs": [],
   "source": [
    "item_counter = collections.Counter(item_names)"
   ]
  },
  {
   "cell_type": "code",
   "execution_count": 56,
   "metadata": {},
   "outputs": [
    {
     "data": {
      "text/plain": [
       "[('Power Treads', 359934),\n",
       " ('Blink Dagger', 292479),\n",
       " ('Magic Wand', 254910),\n",
       " ('Wraith Band', 245018),\n",
       " ('Tranquil Boots', 186358),\n",
       " (\"Aghanim's Scepter\", 167320),\n",
       " ('Phase Boots', 162724),\n",
       " ('Arcane Boots', 160075),\n",
       " ('Black King Bar', 149416),\n",
       " ('Null Talisman', 146197),\n",
       " ('Blade Mail', 123280),\n",
       " ('Shadow Blade', 114471),\n",
       " ('Dust of Appearance', 107712),\n",
       " ('Stout Shield', 99551),\n",
       " ('Boots of Travel', 93532),\n",
       " ('Aether Lens', 85681),\n",
       " ('Battle Fury', 81310),\n",
       " (\"Eul's Scepter of Divinity\", 80430),\n",
       " ('Bracer', 80411),\n",
       " ('Manta Style', 76719),\n",
       " ('Boots of Speed', 76405),\n",
       " ('Desolator', 70873),\n",
       " ('Force Staff', 69418),\n",
       " ('Bottle', 63651),\n",
       " ('Quelling Blade', 62928),\n",
       " ('Maelstrom', 61306),\n",
       " ('Observer and Sentry Wards', 59342),\n",
       " ('Monkey King Bar', 58922),\n",
       " ('Echo Sabre', 57177),\n",
       " ('Sange and Yasha', 49361),\n",
       " ('Silver Edge', 48852),\n",
       " ('Glimmer Cape', 47158),\n",
       " ('Skull Basher', 46475),\n",
       " (\"Linken's Sphere\", 45301),\n",
       " ('Soul Ring', 45188),\n",
       " ('Hand of Midas', 45185),\n",
       " ('Hurricane Pike', 44529),\n",
       " ('Abyssal Blade', 43461),\n",
       " ('Observer Ward', 42977),\n",
       " ('Butterfly', 42379),\n",
       " ('Mask of Madness', 42364),\n",
       " ('Dragon Lance', 42147),\n",
       " ('Daedalus', 41748),\n",
       " ('Kaya', 40494),\n",
       " ('Urn of Shadows', 40459),\n",
       " ('Ghost Scepter', 39893),\n",
       " ('Heart of Tarrasque', 39707),\n",
       " ('Diffusal Blade', 38904),\n",
       " ('Magic Stick', 37984),\n",
       " ('Orb of Venom', 37522),\n",
       " ('Wind Lace', 36506),\n",
       " ('Morbid Mask', 36182),\n",
       " ('Pipe of Insight', 35288),\n",
       " ('Mjollnir', 35113),\n",
       " ('Vanguard', 33072),\n",
       " ('Sentry Ward', 32529),\n",
       " ('Ogre Axe', 32299),\n",
       " ('Crimson Guard', 30720),\n",
       " ('Rod of Atos', 30231),\n",
       " ('Eye of Skadi', 29624),\n",
       " ('Spirit Vessel', 27939),\n",
       " ('Radiance', 27550),\n",
       " ('Staff of Wizardry', 27290),\n",
       " ('Armlet of Mordiggian', 27017),\n",
       " (\"Vladmir's Offering\", 24767),\n",
       " ('Crystalys', 24138),\n",
       " ('Dagon', 24009),\n",
       " ('Scythe of Vyse', 23552),\n",
       " ('Perseverance', 22523),\n",
       " ('Yasha', 21689),\n",
       " ('Point Booster', 21519),\n",
       " ('Yasha and Kaya', 21428),\n",
       " ('Guardian Greaves', 19972),\n",
       " ('Iron Branch', 19920),\n",
       " ('Orchid Malevolence', 19851),\n",
       " ('Enchanted Mango', 19118),\n",
       " ('Smoke of Deceit', 18865),\n",
       " ('Hood of Defiance', 18846),\n",
       " ('Assault Cuirass', 18313),\n",
       " ('Clarity', 18029),\n",
       " ('Ethereal Blade', 17987),\n",
       " ('Blight Stone', 17800),\n",
       " ('Veil of Discord', 17619),\n",
       " (\"Heaven's Halberd\", 17507),\n",
       " ('Mithril Hammer', 16771),\n",
       " ('Satanic', 16311),\n",
       " ('Gem of True Sight', 15738),\n",
       " (\"Shiva's Guard\", 15591),\n",
       " ('Tango', 15431),\n",
       " ('Refresher Orb', 13472),\n",
       " ('Aeon Disk', 13411),\n",
       " ('Octarine Core', 13383),\n",
       " ('Void Stone', 13120),\n",
       " ('Ultimate Orb', 12897),\n",
       " ('Ring of Tarrasque', 12410),\n",
       " ('Bloodstone', 12112),\n",
       " ('Mekansm', 11953),\n",
       " ('Aegis of the Immortal', 11389),\n",
       " ('Bloodthorn', 11018),\n",
       " ('Medallion of Courage', 10761),\n",
       " ('Lotus Orb', 10048),\n",
       " ('Ring of Basilius', 9821),\n",
       " ('Drum of Endurance', 9417),\n",
       " ('Javelin', 8999),\n",
       " ('Moon Shard', 8841),\n",
       " ('Platemail', 8841),\n",
       " ('Solar Crest', 8693),\n",
       " ('Blade of Alacrity', 8417),\n",
       " ('Crown', 8102),\n",
       " ('Kaya and Sange', 8083),\n",
       " ('Hyperstone', 8031),\n",
       " ('Necronomicon', 8017),\n",
       " ('Holy Locket', 7560),\n",
       " ('Chainmail', 7306),\n",
       " ('Vitality Booster', 7297),\n",
       " ('Cloak', 6796),\n",
       " ('Ring of Health', 6605),\n",
       " ('Demon Edge', 6533),\n",
       " ('Shadow Amulet', 6357),\n",
       " ('Mystic Staff', 6249),\n",
       " ('Healing Salve', 6231),\n",
       " ('Reaver', 6089),\n",
       " ('Infused Raindrops', 6078),\n",
       " ('Ring of Regen', 6014),\n",
       " ('Quarterstaff', 5750),\n",
       " ('Eaglesong', 5368),\n",
       " ('Robe of the Magi', 5040),\n",
       " ('Cheese', 4994),\n",
       " ('Headdress', 4706),\n",
       " ('Divine Rapier', 4616),\n",
       " ('Sange', 4403),\n",
       " ('Nullifier', 3999),\n",
       " ('Oblivion Staff', 3693),\n",
       " ('Meteor Hammer', 3525),\n",
       " ('Faerie Fire', 3508),\n",
       " ('Circlet', 3478),\n",
       " ('Energy Booster', 3393),\n",
       " ('Belt of Strength', 3247),\n",
       " ('Claymore', 3143),\n",
       " ('Broadsword', 3001),\n",
       " ('Mantle of Intelligence', 2923),\n",
       " ('Band of Elvenskin', 2745),\n",
       " ('Soul Booster', 2710),\n",
       " ('Talisman of Evasion', 2679),\n",
       " ('Gauntlets of Strength', 2516),\n",
       " ('Buckler', 2490),\n",
       " ('Ring of Protection', 2408),\n",
       " ('Helm of the Dominator', 2321),\n",
       " (\"Sage's Mask\", 1982),\n",
       " ('Slippers of Agility', 1745),\n",
       " ('Gloves of Haste', 1734),\n",
       " ('Tome of Knowledge', 1656),\n",
       " ('Blades of Attack', 1640),\n",
       " ('Sacred Relic', 1580),\n",
       " ('Helm of Iron Will', 1208),\n",
       " ('Tango (Shared)', 735),\n",
       " ('Refresher Shard', 691),\n",
       " ('Recipe: Aether Lens', 318),\n",
       " ('Recipe: Heart of Tarrasque', 150),\n",
       " ('Recipe: Manta Style', 140),\n",
       " ('Recipe: Daedalus', 138),\n",
       " ('Recipe: Battle Fury', 132),\n",
       " (\"Recipe: Linken's Sphere\", 117),\n",
       " (\"Recipe: Shiva's Guard\", 115),\n",
       " ('Recipe: Radiance', 109),\n",
       " ('Recipe: Aeon Disk', 99),\n",
       " ('Recipe: Silver Edge', 91),\n",
       " ('Recipe: Black King Bar', 65),\n",
       " ('Recipe: Spirit Vessel', 65),\n",
       " (\"Recipe: Eul's Scepter of Divinity\", 64),\n",
       " ('Recipe: Mjollnir', 61),\n",
       " ('Recipe: Skull Basher', 47),\n",
       " ('Recipe: Yasha', 43),\n",
       " ('Recipe: Solar Crest', 43),\n",
       " ('Recipe: Assault Cuirass', 37),\n",
       " ('Recipe: Kaya', 35),\n",
       " ('Recipe: Crystalys', 33),\n",
       " ('Recipe: Sange', 31),\n",
       " ('Recipe: Force Staff', 30),\n",
       " ('Recipe: Abyssal Blade', 29),\n",
       " ('Recipe: Buckler', 26),\n",
       " ('Recipe: Refresher Orb', 19),\n",
       " ('Recipe: Diffusal Blade', 18),\n",
       " ('Recipe: Guardian Greaves', 17),\n",
       " ('Recipe: Hurricane Pike', 17),\n",
       " ('Recipe: Rod of Atos', 16),\n",
       " ('Recipe: Boots of Travel', 14),\n",
       " ('Recipe: Crimson Guard', 11),\n",
       " ('Recipe: Headdress', 11),\n",
       " ('Recipe: Hand of Midas', 9),\n",
       " ('Recipe: Mekansm', 8),\n",
       " ('Recipe: Veil of Discord', 6),\n",
       " ('Recipe: Armlet of Mordiggian', 6),\n",
       " ('Recipe: Urn of Shadows', 6),\n",
       " ('Recipe: Bloodthorn', 6),\n",
       " ('Recipe: Drum of Endurance', 4),\n",
       " ('Recipe: Wraith Band', 4),\n",
       " ('Recipe: Orchid Malevolence', 4),\n",
       " ('Recipe: Pipe of Insight', 4),\n",
       " ('Recipe: Dagon', 3),\n",
       " ('Recipe: Bracer', 3),\n",
       " ('Recipe: Null Talisman', 3),\n",
       " ('Recipe: Magic Wand', 2),\n",
       " ('Recipe: Necronomicon', 2),\n",
       " ('Recipe: Holy Locket', 2),\n",
       " ('Recipe: Soul Ring', 1),\n",
       " ('Animal Courier', 1)]"
      ]
     },
     "execution_count": 56,
     "metadata": {},
     "output_type": "execute_result"
    }
   ],
   "source": [
    "item_counter.most_common()"
   ]
  },
  {
   "cell_type": "code",
   "execution_count": null,
   "metadata": {},
   "outputs": [],
   "source": []
  }
 ],
 "metadata": {
  "kernelspec": {
   "display_name": "Python 3",
   "language": "python",
   "name": "python3"
  },
  "language_info": {
   "codemirror_mode": {
    "name": "ipython",
    "version": 3
   },
   "file_extension": ".py",
   "mimetype": "text/x-python",
   "name": "python",
   "nbconvert_exporter": "python",
   "pygments_lexer": "ipython3",
   "version": "3.6.7"
  }
 },
 "nbformat": 4,
 "nbformat_minor": 2
}
